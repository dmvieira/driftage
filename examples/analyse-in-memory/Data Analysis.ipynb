{
 "cells": [
  {
   "cell_type": "code",
   "execution_count": null,
   "metadata": {},
   "outputs": [],
   "source": [
    "!pip install matplotlib\n",
    "!pip install -r analyser/requirements.txt"
   ]
  },
  {
   "cell_type": "code",
   "execution_count": 1,
   "metadata": {},
   "outputs": [],
   "source": [
    "import pandas\n",
    "import time\n",
    "import matplotlib.pyplot as plt\n",
    "from skmultiflow.drift_detection import ADWIN"
   ]
  },
  {
   "cell_type": "code",
   "execution_count": 2,
   "metadata": {},
   "outputs": [],
   "source": [
    "df_no_train = pandas.read_csv(\"result/analyser_1_results.csv\", header=0, names=[\"time\"])\n",
    "df_with_train = pandas.read_csv(\"result/analyser_0_results.csv\", header=0, names=[\"time\"])"
   ]
  },
  {
   "cell_type": "code",
   "execution_count": 3,
   "metadata": {},
   "outputs": [
    {
     "data": {
      "text/html": [
       "<div>\n",
       "<style scoped>\n",
       "    .dataframe tbody tr th:only-of-type {\n",
       "        vertical-align: middle;\n",
       "    }\n",
       "\n",
       "    .dataframe tbody tr th {\n",
       "        vertical-align: top;\n",
       "    }\n",
       "\n",
       "    .dataframe thead th {\n",
       "        text-align: right;\n",
       "    }\n",
       "</style>\n",
       "<table border=\"1\" class=\"dataframe\">\n",
       "  <thead>\n",
       "    <tr style=\"text-align: right;\">\n",
       "      <th></th>\n",
       "      <th>time</th>\n",
       "    </tr>\n",
       "  </thead>\n",
       "  <tbody>\n",
       "    <tr>\n",
       "      <th>0</th>\n",
       "      <td>0.000070</td>\n",
       "    </tr>\n",
       "    <tr>\n",
       "      <th>1</th>\n",
       "      <td>0.000061</td>\n",
       "    </tr>\n",
       "    <tr>\n",
       "      <th>2</th>\n",
       "      <td>0.000115</td>\n",
       "    </tr>\n",
       "    <tr>\n",
       "      <th>3</th>\n",
       "      <td>0.000062</td>\n",
       "    </tr>\n",
       "    <tr>\n",
       "      <th>4</th>\n",
       "      <td>0.000109</td>\n",
       "    </tr>\n",
       "  </tbody>\n",
       "</table>\n",
       "</div>"
      ],
      "text/plain": [
       "       time\n",
       "0  0.000070\n",
       "1  0.000061\n",
       "2  0.000115\n",
       "3  0.000062\n",
       "4  0.000109"
      ]
     },
     "execution_count": 3,
     "metadata": {},
     "output_type": "execute_result"
    }
   ],
   "source": [
    "df_no_train.head()"
   ]
  },
  {
   "cell_type": "code",
   "execution_count": 4,
   "metadata": {},
   "outputs": [
    {
     "data": {
      "text/html": [
       "<div>\n",
       "<style scoped>\n",
       "    .dataframe tbody tr th:only-of-type {\n",
       "        vertical-align: middle;\n",
       "    }\n",
       "\n",
       "    .dataframe tbody tr th {\n",
       "        vertical-align: top;\n",
       "    }\n",
       "\n",
       "    .dataframe thead th {\n",
       "        text-align: right;\n",
       "    }\n",
       "</style>\n",
       "<table border=\"1\" class=\"dataframe\">\n",
       "  <thead>\n",
       "    <tr style=\"text-align: right;\">\n",
       "      <th></th>\n",
       "      <th>time</th>\n",
       "    </tr>\n",
       "  </thead>\n",
       "  <tbody>\n",
       "    <tr>\n",
       "      <th>0</th>\n",
       "      <td>0.000061</td>\n",
       "    </tr>\n",
       "    <tr>\n",
       "      <th>1</th>\n",
       "      <td>0.000060</td>\n",
       "    </tr>\n",
       "    <tr>\n",
       "      <th>2</th>\n",
       "      <td>0.000052</td>\n",
       "    </tr>\n",
       "    <tr>\n",
       "      <th>3</th>\n",
       "      <td>0.000057</td>\n",
       "    </tr>\n",
       "    <tr>\n",
       "      <th>4</th>\n",
       "      <td>0.000116</td>\n",
       "    </tr>\n",
       "  </tbody>\n",
       "</table>\n",
       "</div>"
      ],
      "text/plain": [
       "       time\n",
       "0  0.000061\n",
       "1  0.000060\n",
       "2  0.000052\n",
       "3  0.000057\n",
       "4  0.000116"
      ]
     },
     "execution_count": 4,
     "metadata": {},
     "output_type": "execute_result"
    }
   ],
   "source": [
    "df_with_train.head()"
   ]
  },
  {
   "cell_type": "code",
   "execution_count": 5,
   "metadata": {},
   "outputs": [],
   "source": [
    "df_data = pandas.read_csv(\"monitor/data/punching.tsv\", header=0, names=[\"punching\"], sep=\"\\t\")"
   ]
  },
  {
   "cell_type": "code",
   "execution_count": 6,
   "metadata": {},
   "outputs": [
    {
     "name": "stdout",
     "output_type": "stream",
     "text": [
      "delta: 0.001, drift rate: 0.001834862385321101\n"
     ]
    }
   ],
   "source": [
    "delta = 1.0\n",
    "detector = ADWIN(delta)\n",
    "last_rate = 0\n",
    "drift_rate_up = 0.1\n",
    "drift_rate_down = 0.0001\n",
    "time_data = []\n",
    "for potential in df_data[\"punching\"].values:\n",
    "    start = time.time()\n",
    "    time.sleep(0.01)\n",
    "    detector.add_element(potential)\n",
    "    detector.detected_change()\n",
    "    if ((drift_rate_up * detector.width) > 0):\n",
    "        drift_rate = detector.n_detections / detector.width\n",
    "        if (last_rate <= drift_rate) and (drift_rate >= drift_rate_up):\n",
    "            delta = detector.delta / 10\n",
    "            if delta >= drift_rate_down:\n",
    "                detector.delta = delta\n",
    "                last_rate = drift_rate\n",
    "        elif (last_rate >= drift_rate) and (drift_rate <= drift_rate_down):\n",
    "            delta = detector.delta * 10\n",
    "            if delta <= drift_rate_up:\n",
    "                detector.delta = delta\n",
    "                last_rate = drift_rate\n",
    "    time_data.append(time.time()-start)\n",
    "print(f\"delta: {detector.delta}, drift rate: {drift_rate}\")\n",
    "detector.reset()"
   ]
  },
  {
   "cell_type": "code",
   "execution_count": 7,
   "metadata": {},
   "outputs": [
    {
     "data": {
      "text/plain": [
       "Text(0, 0.5, 'Time (seconds)')"
      ]
     },
     "execution_count": 7,
     "metadata": {},
     "output_type": "execute_result"
    },
    {
     "data": {
      "image/png": "[encoded data removed]",
      "text/plain": [
       "<Figure size 432x288 with 1 Axes>"
      ]
     },
     "metadata": {
      "needs_background": "light"
     },
     "output_type": "display_data"
    }
   ],
   "source": [
    "%matplotlib inline\n",
    "plt.rcParams.update({'font.size': 13})\n",
    "df = pandas.DataFrame()\n",
    "df[\"with_train_async\"] = df_with_train.time\n",
    "df[\"no_train\"] = df_no_train.time\n",
    "df[\"with_train_sync\"] = pandas.Series(time_data)\n",
    "ax = df.boxplot()\n",
    "ax.set_ylabel(\"Time (seconds)\")"
   ]
  },
  {
   "cell_type": "code",
   "execution_count": 8,
   "metadata": {},
   "outputs": [
    {
     "data": {
      "text/html": [
       "<div>\n",
       "<style scoped>\n",
       "    .dataframe tbody tr th:only-of-type {\n",
       "        vertical-align: middle;\n",
       "    }\n",
       "\n",
       "    .dataframe tbody tr th {\n",
       "        vertical-align: top;\n",
       "    }\n",
       "\n",
       "    .dataframe thead th {\n",
       "        text-align: right;\n",
       "    }\n",
       "</style>\n",
       "<table border=\"1\" class=\"dataframe\">\n",
       "  <thead>\n",
       "    <tr style=\"text-align: right;\">\n",
       "      <th></th>\n",
       "      <th>with_train_async</th>\n",
       "      <th>no_train</th>\n",
       "      <th>with_train_sync</th>\n",
       "    </tr>\n",
       "  </thead>\n",
       "  <tbody>\n",
       "    <tr>\n",
       "      <th>count</th>\n",
       "      <td>8120.000000</td>\n",
       "      <td>8120.000000</td>\n",
       "      <td>8120.000000</td>\n",
       "    </tr>\n",
       "    <tr>\n",
       "      <th>mean</th>\n",
       "      <td>0.000186</td>\n",
       "      <td>0.000164</td>\n",
       "      <td>0.010579</td>\n",
       "    </tr>\n",
       "    <tr>\n",
       "      <th>std</th>\n",
       "      <td>0.000460</td>\n",
       "      <td>0.000281</td>\n",
       "      <td>0.000586</td>\n",
       "    </tr>\n",
       "    <tr>\n",
       "      <th>min</th>\n",
       "      <td>0.000052</td>\n",
       "      <td>0.000057</td>\n",
       "      <td>0.010112</td>\n",
       "    </tr>\n",
       "    <tr>\n",
       "      <th>25%</th>\n",
       "      <td>0.000088</td>\n",
       "      <td>0.000090</td>\n",
       "      <td>0.010296</td>\n",
       "    </tr>\n",
       "    <tr>\n",
       "      <th>50%</th>\n",
       "      <td>0.000110</td>\n",
       "      <td>0.000109</td>\n",
       "      <td>0.010442</td>\n",
       "    </tr>\n",
       "    <tr>\n",
       "      <th>75%</th>\n",
       "      <td>0.000149</td>\n",
       "      <td>0.000147</td>\n",
       "      <td>0.010690</td>\n",
       "    </tr>\n",
       "    <tr>\n",
       "      <th>max</th>\n",
       "      <td>0.027309</td>\n",
       "      <td>0.010825</td>\n",
       "      <td>0.020054</td>\n",
       "    </tr>\n",
       "  </tbody>\n",
       "</table>\n",
       "</div>"
      ],
      "text/plain": [
       "       with_train_async     no_train  with_train_sync\n",
       "count       8120.000000  8120.000000      8120.000000\n",
       "mean           0.000186     0.000164         0.010579\n",
       "std            0.000460     0.000281         0.000586\n",
       "min            0.000052     0.000057         0.010112\n",
       "25%            0.000088     0.000090         0.010296\n",
       "50%            0.000110     0.000109         0.010442\n",
       "75%            0.000149     0.000147         0.010690\n",
       "max            0.027309     0.010825         0.020054"
      ]
     },
     "execution_count": 8,
     "metadata": {},
     "output_type": "execute_result"
    }
   ],
   "source": [
    "df.describe()"
   ]
  },
  {
   "cell_type": "code",
   "execution_count": null,
   "metadata": {},
   "outputs": [],
   "source": []
  }
 ],
 "metadata": {
  "kernelspec": {
   "display_name": "Python 3",
   "language": "python",
   "name": "python3"
  },
  "language_info": {
   "codemirror_mode": {
    "name": "ipython",
    "version": 3
   },
   "file_extension": ".py",
   "mimetype": "text/x-python",
   "name": "python",
   "nbconvert_exporter": "python",
   "pygments_lexer": "ipython3",
   "version": "3.7.7"
  }
 },
 "nbformat": 4,
 "nbformat_minor": 4
}
